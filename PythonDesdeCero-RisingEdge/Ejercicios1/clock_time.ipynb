{
 "cells": [
  {
   "cell_type": "code",
   "execution_count": 11,
   "metadata": {},
   "outputs": [
    {
     "name": "stdout",
     "output_type": "stream",
     "text": [
      "38730000\n"
     ]
    }
   ],
   "source": [
    "hours = int(input(\"Ingrese las horas:\"))\n",
    "minutes = int(input(\"Ingrese los minutos:\"))\n",
    "seconds = int(input(\"Ingrese los segundos:\"))\n",
    "\n",
    "time_since_midnight = ((hours * 3600) + (minutes * 60) + seconds) * 1000\n",
    "print(time_since_midnight)"
   ]
  }
 ],
 "metadata": {
  "kernelspec": {
   "display_name": "Python 3",
   "language": "python",
   "name": "python3"
  },
  "language_info": {
   "codemirror_mode": {
    "name": "ipython",
    "version": 3
   },
   "file_extension": ".py",
   "mimetype": "text/x-python",
   "name": "python",
   "nbconvert_exporter": "python",
   "pygments_lexer": "ipython3",
   "version": "3.12.6"
  }
 },
 "nbformat": 4,
 "nbformat_minor": 2
}
