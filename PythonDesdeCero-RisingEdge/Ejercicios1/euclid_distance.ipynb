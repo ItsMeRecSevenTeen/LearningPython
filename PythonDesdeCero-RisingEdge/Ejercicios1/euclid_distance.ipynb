{
 "cells": [
  {
   "cell_type": "code",
   "execution_count": 3,
   "metadata": {},
   "outputs": [
    {
     "name": "stdout",
     "output_type": "stream",
     "text": [
      "0.447213595499958\n"
     ]
    }
   ],
   "source": [
    "x1 = float(input(\"Ingrese x1:\"))\n",
    "y1 = float(input(\"Ingrese y1:\"))\n",
    "x2 = float(input(\"Ingrese x2:\"))\n",
    "y2 = float(input(\"Ingrese y2:\"))\n",
    "\n",
    "distance = (((x2 - x1) ** 2) + ((y2 - y1) ** 2)) ** (1/2)\n",
    "print(distance)"
   ]
  }
 ],
 "metadata": {
  "kernelspec": {
   "display_name": "Python 3",
   "language": "python",
   "name": "python3"
  },
  "language_info": {
   "codemirror_mode": {
    "name": "ipython",
    "version": 3
   },
   "file_extension": ".py",
   "mimetype": "text/x-python",
   "name": "python",
   "nbconvert_exporter": "python",
   "pygments_lexer": "ipython3",
   "version": "3.12.6"
  }
 },
 "nbformat": 4,
 "nbformat_minor": 2
}
