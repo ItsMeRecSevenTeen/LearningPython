{
 "cells": [
  {
   "cell_type": "code",
   "execution_count": 3,
   "metadata": {},
   "outputs": [
    {
     "name": "stdout",
     "output_type": "stream",
     "text": [
      "125507.16220745872\n"
     ]
    }
   ],
   "source": [
    "amount = float(input(\"Ingrese el capital inicial: \"))\n",
    "rate = float(input(\"Ingrese el tipo de capital: \"))\n",
    "years = int(input(\"Ingrese la cantidad de años: \"))\n",
    "future_amount = amount * (1 + (rate/100)) ** years\n",
    "print(future_amount)"
   ]
  }
 ],
 "metadata": {
  "kernelspec": {
   "display_name": "Python 3",
   "language": "python",
   "name": "python3"
  },
  "language_info": {
   "codemirror_mode": {
    "name": "ipython",
    "version": 3
   },
   "file_extension": ".py",
   "mimetype": "text/x-python",
   "name": "python",
   "nbconvert_exporter": "python",
   "pygments_lexer": "ipython3",
   "version": "3.12.6"
  }
 },
 "nbformat": 4,
 "nbformat_minor": 2
}
