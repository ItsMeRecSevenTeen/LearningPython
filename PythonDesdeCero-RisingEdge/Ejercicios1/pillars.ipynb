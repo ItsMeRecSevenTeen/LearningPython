{
 "cells": [
  {
   "cell_type": "code",
   "execution_count": 12,
   "metadata": {},
   "outputs": [
    {
     "name": "stdout",
     "output_type": "stream",
     "text": [
      "4970.0\n"
     ]
    }
   ],
   "source": [
    "num_pillars = int(input(\"Ingrese el numero de pilares: \"))\n",
    "gap_pillars = float(input(\"Ingrese la distancia entre pilares: \"))\n",
    "pillar_width = float(input(\"Ingrese el ancho del poste: \"))\n",
    "\n",
    "inter_distance = ((gap_pillars * 100) * (num_pillars)) - (pillar_width * 2)\n",
    "print(inter_distance)"
   ]
  }
 ],
 "metadata": {
  "kernelspec": {
   "display_name": "Python 3",
   "language": "python",
   "name": "python3"
  },
  "language_info": {
   "codemirror_mode": {
    "name": "ipython",
    "version": 3
   },
   "file_extension": ".py",
   "mimetype": "text/x-python",
   "name": "python",
   "nbconvert_exporter": "python",
   "pygments_lexer": "ipython3",
   "version": "3.12.6"
  }
 },
 "nbformat": 4,
 "nbformat_minor": 2
}
