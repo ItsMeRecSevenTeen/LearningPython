{
 "cells": [
  {
   "cell_type": "code",
   "execution_count": 34,
   "metadata": {},
   "outputs": [
    {
     "name": "stdout",
     "output_type": "stream",
     "text": [
      "No es bisiesto\n"
     ]
    }
   ],
   "source": [
    "year = int(input(\"Ingrese el año:\"))\n",
    "\n",
    "if (year % 4) == 0 or not((year % 100) != 0):\n",
    "    print(\"Es bisiesto\")\n",
    "else:\n",
    "    print(\"No es bisiesto\")"
   ]
  },
  {
   "cell_type": "code",
   "execution_count": 10,
   "metadata": {},
   "outputs": [
    {
     "name": "stdout",
     "output_type": "stream",
     "text": [
      "Thanos\n"
     ]
    }
   ],
   "source": [
    "can_fly = input(\"¿Puede volar?: \")\n",
    "is_human = input(\"¿Es humano?: \")\n",
    "has_mask = input(\"¿Tiene mascara?: \")\n",
    "\n",
    "if can_fly == \"Y\":\n",
    "    if is_human == \"Y\":\n",
    "        if has_mask == \"Y\":\n",
    "            print(\"Ironman\")\n",
    "        else:\n",
    "            print(\"Captain Marvel\")\n",
    "    else:\n",
    "        if has_mask == \"Y\":\n",
    "            print(\"Ronan Accuser\")\n",
    "        else:\n",
    "            print(\"Vision\")\n",
    "else:\n",
    "    if is_human == \"Y\":\n",
    "        if has_mask == \"Y\":\n",
    "            print(\"Spiderman\")\n",
    "        else:\n",
    "            print(\"Hulk\")\n",
    "    else:\n",
    "        if has_mask == \"Y\":\n",
    "            print(\"Black Bolt\")\n",
    "        else:\n",
    "            print(\"Thanos\")"
   ]
  },
  {
   "cell_type": "code",
   "execution_count": 13,
   "metadata": {},
   "outputs": [
    {
     "name": "stdout",
     "output_type": "stream",
     "text": [
      "4 + 3 = 7\n"
     ]
    }
   ],
   "source": [
    "n1 = int(input(\"Ingrese el primer valor:\"))\n",
    "n2 = int(input(\"Ingrese el segundo valor:\"))\n",
    "operacion = input(\"Operacion a realizar: \")\n",
    "\n",
    "match operacion:\n",
    "    case \"+\":\n",
    "        print(f\"{n1} + {n2} = {n1 + n2}\")\n",
    "    case \"-\":\n",
    "        print(f\"{n1} - {n2} = {n1 - n2}\")\n",
    "    case \"*\":\n",
    "        print(f\"{n1} * {n2} = {n1 * n2}\")\n",
    "    case \"/\":\n",
    "        print(f\"{n1} / {n2} = {n1 / n2}\")\n",
    "    case _:\n",
    "        print(\"Operacion inválida, inténtalo de nuevo:\")"
   ]
  },
  {
   "cell_type": "code",
   "execution_count": 20,
   "metadata": {},
   "outputs": [
    {
     "name": "stdout",
     "output_type": "stream",
     "text": [
      "5\n",
      "10\n",
      "15\n",
      "20\n",
      "25\n",
      "30\n",
      "35\n",
      "40\n",
      "45\n",
      "50\n",
      "55\n",
      "60\n",
      "65\n",
      "70\n",
      "75\n",
      "80\n",
      "85\n",
      "90\n",
      "95\n"
     ]
    }
   ],
   "source": [
    "valor = int(input(\"Ingrese el valor máximo: \"))\n",
    "cont = 5\n",
    "while cont < valor:\n",
    "    print(cont,sep = \" \")\n",
    "    cont += 5"
   ]
  }
 ],
 "metadata": {
  "kernelspec": {
   "display_name": "Python 3",
   "language": "python",
   "name": "python3"
  },
  "language_info": {
   "codemirror_mode": {
    "name": "ipython",
    "version": 3
   },
   "file_extension": ".py",
   "mimetype": "text/x-python",
   "name": "python",
   "nbconvert_exporter": "python",
   "pygments_lexer": "ipython3",
   "version": "3.12.6"
  }
 },
 "nbformat": 4,
 "nbformat_minor": 2
}
