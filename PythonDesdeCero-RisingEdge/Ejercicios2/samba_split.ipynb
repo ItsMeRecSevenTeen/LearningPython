{
 "cells": [
  {
   "cell_type": "code",
   "execution_count": 3,
   "metadata": {},
   "outputs": [
    {
     "name": "stdout",
     "output_type": "stream",
     "text": [
      "8.6.4.2\n",
      "/data/work/upload/\n"
     ]
    }
   ],
   "source": [
    "smb_path = input(\"Ingrese la ruta samba: \")\n",
    "primera_parte = smb_path[2 : ]\n",
    "host = primera_parte[ : primera_parte.find(\"/\")]\n",
    "path = primera_parte[primera_parte.find(\"/\") : ]\n",
    "print(host)\n",
    "print(path)"
   ]
  }
 ],
 "metadata": {
  "kernelspec": {
   "display_name": "Python 3",
   "language": "python",
   "name": "python3"
  },
  "language_info": {
   "codemirror_mode": {
    "name": "ipython",
    "version": 3
   },
   "file_extension": ".py",
   "mimetype": "text/x-python",
   "name": "python",
   "nbconvert_exporter": "python",
   "pygments_lexer": "ipython3",
   "version": "3.12.6"
  }
 },
 "nbformat": 4,
 "nbformat_minor": 2
}
