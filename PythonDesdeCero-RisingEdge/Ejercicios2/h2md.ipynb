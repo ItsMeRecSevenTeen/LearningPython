{
 "cells": [
  {
   "cell_type": "code",
   "execution_count": 5,
   "metadata": {},
   "outputs": [
    {
     "name": "stdout",
     "output_type": "stream",
     "text": [
      "#### hola\n"
     ]
    }
   ],
   "source": [
    "html = input(\"Ingrese el fragmento HTML: \")\n",
    "primer_parte = html[html.find(\">\") + 1 : ]\n",
    "entidad = primer_parte[ : primer_parte.find(\"<\")]\n",
    "sharps = int(html[2])\n",
    "markdown = (\"#\" * sharps) + f\" {entidad}\"\n",
    "print(markdown)"
   ]
  }
 ],
 "metadata": {
  "kernelspec": {
   "display_name": "Python 3",
   "language": "python",
   "name": "python3"
  },
  "language_info": {
   "codemirror_mode": {
    "name": "ipython",
    "version": 3
   },
   "file_extension": ".py",
   "mimetype": "text/x-python",
   "name": "python",
   "nbconvert_exporter": "python",
   "pygments_lexer": "ipython3",
   "version": "3.12.6"
  }
 },
 "nbformat": 4,
 "nbformat_minor": 2
}
