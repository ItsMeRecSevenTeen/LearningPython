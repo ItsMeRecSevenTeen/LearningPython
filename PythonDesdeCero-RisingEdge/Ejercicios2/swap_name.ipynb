{
 "cells": [
  {
   "cell_type": "code",
   "execution_count": 4,
   "metadata": {},
   "outputs": [
    {
     "name": "stdout",
     "output_type": "stream",
     "text": [
      "T-800 Terminator\n"
     ]
    }
   ],
   "source": [
    "fullname = input(\"Ingrese el nombre completo: \")\n",
    "primer_parte = fullname[ : fullname.find(\" \")]\n",
    "segunda_parte = fullname[fullname.find(\" \") + 1: ]\n",
    "swapname = segunda_parte + \" \" + primer_parte\n",
    "print(swapname)"
   ]
  }
 ],
 "metadata": {
  "kernelspec": {
   "display_name": "Python 3",
   "language": "python",
   "name": "python3"
  },
  "language_info": {
   "codemirror_mode": {
    "name": "ipython",
    "version": 3
   },
   "file_extension": ".py",
   "mimetype": "text/x-python",
   "name": "python",
   "nbconvert_exporter": "python",
   "pygments_lexer": "ipython3",
   "version": "3.12.6"
  }
 },
 "nbformat": 4,
 "nbformat_minor": 2
}
