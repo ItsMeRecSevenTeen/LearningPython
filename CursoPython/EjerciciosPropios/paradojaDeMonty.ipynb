{
 "cells": [
  {
   "cell_type": "code",
   "execution_count": 3,
   "metadata": {},
   "outputs": [
    {
     "name": "stdout",
     "output_type": "stream",
     "text": [
      "La paradoja de Monty:\n",
      "Detrás de una de estas tres puertas, hay un automovil, y las otras 2 restantes hay una cabra en las dos, Escoje una puerta y te llevarás lo que hay detrás de ella, ¿Cuál elijes?...\n",
      "______      ______      ______\n",
      "|    |      |    |      |    |\n",
      "|   .|      |   .|      |   .|\n",
      "|    |      |    |      |    |\n",
      "¯¯¯¯¯¯      ¯¯¯¯¯¯      ¯¯¯¯¯¯\n",
      "   1           2           3\n",
      "\n",
      "Ganaste: Cabra\n"
     ]
    }
   ],
   "source": [
    "import random\n",
    "puertas = [\"Automovil\", \"Cabra\", \"Cabra\"]\n",
    "random.shuffle(puertas)\n",
    "\n",
    "print(\n",
    "\"\"\"La paradoja de Monty:\n",
    "Detrás de una de estas tres puertas, hay un automovil, y las otras 2 restantes hay una cabra en las dos, Escoje una puerta y te llevarás lo que hay detrás de ella, ¿Cuál elijes?...\n",
    "______      ______      ______\n",
    "|    |      |    |      |    |\n",
    "|   .|      |   .|      |   .|\n",
    "|    |      |    |      |    |\n",
    "¯¯¯¯¯¯      ¯¯¯¯¯¯      ¯¯¯¯¯¯\n",
    "   1           2           3\n",
    "\"\"\")\n",
    "\n",
    "respuesta = int(input(\"Elige una puerta (1, 2 o 3): \")) - 1 \n",
    "\n",
    "puerta_con_cabra = [i for i in range(3) if puertas[i] == \"Cabra\" and i != respuesta][0]\n",
    "eleccion = input(f\"Elegiste la puerta {respuesta + 1}. Detrás de la puerta {puerta_con_cabra + 1} hay una cabra. ¿Quieres cambiar tu elección? (S/N): \")\n",
    "if eleccion.upper() == \"S\":\n",
    "    respuesta = [i for i in range(3) if i != respuesta and i != puerta_con_cabra][0]\n",
    "print(f\"Ganaste: {puertas[respuesta]}\")"
   ]
  }
 ],
 "metadata": {
  "kernelspec": {
   "display_name": "Python 3",
   "language": "python",
   "name": "python3"
  },
  "language_info": {
   "codemirror_mode": {
    "name": "ipython",
    "version": 3
   },
   "file_extension": ".py",
   "mimetype": "text/x-python",
   "name": "python",
   "nbconvert_exporter": "python",
   "pygments_lexer": "ipython3",
   "version": "3.12.6"
  }
 },
 "nbformat": 4,
 "nbformat_minor": 2
}
